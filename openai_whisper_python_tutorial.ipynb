{
  "cells": [
    {
      "cell_type": "markdown",
      "metadata": {
        "id": "view-in-github",
        "colab_type": "text"
      },
      "source": [
        "<a href=\"https://colab.research.google.com/github/balandongiv/apid/blob/main/openai_whisper_python_tutorial.ipynb\" target=\"_parent\"><img src=\"https://colab.research.google.com/assets/colab-badge.svg\" alt=\"Open In Colab\"/></a>"
      ]
    },
    {
      "cell_type": "markdown",
      "metadata": {
        "id": "2f5f6009-6ff0-4bb8-8610-2e25495268b6"
      },
      "source": [
        "# OpenAI Whisper and Auto Capture Frame"
      ],
      "id": "2f5f6009-6ff0-4bb8-8610-2e25495268b6"
    },
    {
      "cell_type": "markdown",
      "metadata": {
        "id": "31fb9e7b"
      },
      "source": [
        "## 1. Getting Started with OpenAI Whisper"
      ],
      "id": "31fb9e7b"
    },
    {
      "cell_type": "markdown",
      "metadata": {
        "id": "9d283009"
      },
      "source": [
        "### a. Install OpenAI Whisper Python Library"
      ],
      "id": "9d283009"
    },
    {
      "cell_type": "code",
      "source": [
        "from google.colab import drive\n",
        "drive.mount('/content/drive')"
      ],
      "metadata": {
        "id": "tiwLqmrFYwjd"
      },
      "id": "tiwLqmrFYwjd",
      "execution_count": null,
      "outputs": []
    },
    {
      "cell_type": "code",
      "execution_count": null,
      "metadata": {
        "collapsed": true,
        "id": "1bf78c41-c455-4427-af2c-6ed7a8e3004b"
      },
      "outputs": [],
      "source": [
        "!pip install -U openai-whisper\n",
        "!pip install pytube -q\n",
        "!pip install pydub\n",
        "!pip install python-docx"
      ],
      "id": "1bf78c41-c455-4427-af2c-6ed7a8e3004b"
    },
    {
      "cell_type": "code",
      "source": [
        "from pydub import AudioSegment\n",
        "import os\n",
        "from pytube import YouTube\n",
        "import re\n",
        "import pandas as pd\n",
        "from pytube import YouTube\n",
        "from moviepy.editor import VideoFileClip\n",
        "from PIL import Image\n",
        "import os\n",
        "from docx import Document\n",
        "from docx.shared import Inches\n",
        "from PIL import Image\n",
        "import whisper\n",
        "model = whisper.load_model(\"small\")"
      ],
      "metadata": {
        "id": "1wsR3e6WU3G0"
      },
      "id": "1wsR3e6WU3G0",
      "execution_count": null,
      "outputs": []
    },
    {
      "cell_type": "code",
      "execution_count": null,
      "metadata": {
        "id": "6gBreIQjly2r"
      },
      "outputs": [],
      "source": [
        "def clean_and_format_string(input_string):\n",
        "    # Remove special characters and spaces, and replace them with underscores\n",
        "    cleaned_string = re.sub(r'[^a-zA-Z0-9]+', '_', input_string)\n",
        "\n",
        "    # Remove leading and trailing underscores\n",
        "    cleaned_string = cleaned_string.strip('_')\n",
        "\n",
        "    # Convert to lowercase if needed\n",
        "    formatted_string = cleaned_string.lower()\n",
        "\n",
        "    return formatted_string"
      ],
      "id": "6gBreIQjly2r"
    },
    {
      "cell_type": "markdown",
      "metadata": {
        "id": "bb1cb6e9"
      },
      "source": [
        "### b. Load the OpenAI Whisper Model"
      ],
      "id": "bb1cb6e9"
    },
    {
      "cell_type": "code",
      "execution_count": null,
      "metadata": {
        "id": "c989af14-2a18-4390-91be-d8e63d623fe2"
      },
      "outputs": [],
      "source": [],
      "id": "c989af14-2a18-4390-91be-d8e63d623fe2"
    },
    {
      "cell_type": "code",
      "execution_count": null,
      "metadata": {
        "id": "4OTlcOhB2jlH"
      },
      "outputs": [],
      "source": [
        "# from pydub import AudioSegment\n",
        "# import os\n",
        "\n",
        "def segment_audio(audio_path, segment_duration_seconds=20):  # segment_duration in seconds\n",
        "    # Convert segment duration to milliseconds\n",
        "    segment_duration_milliseconds = segment_duration_seconds * 1000\n",
        "\n",
        "    # Load audio file\n",
        "    audio = AudioSegment.from_file(audio_path)\n",
        "\n",
        "    # Create a directory to store segments\n",
        "    base_path, ext = os.path.splitext(audio_path)\n",
        "    segment_dir = base_path + \"_segments\"\n",
        "    if not os.path.exists(segment_dir):\n",
        "        os.makedirs(segment_dir)\n",
        "\n",
        "    # Segment audio and export\n",
        "    segment_paths = []\n",
        "    for i in range(0, len(audio), segment_duration_milliseconds):\n",
        "        segment = audio[i:i + segment_duration_milliseconds]\n",
        "        segment_path = os.path.join(segment_dir, f\"segment_{i // segment_duration_milliseconds}{ext}\")\n",
        "        segment.export(segment_path, format=ext.replace('.', ''))\n",
        "        segment_paths.append(segment_path)\n",
        "\n",
        "    return segment_paths\n"
      ],
      "id": "4OTlcOhB2jlH"
    },
    {
      "cell_type": "code",
      "execution_count": null,
      "metadata": {
        "id": "y5P7BbfUm4LJ"
      },
      "outputs": [],
      "source": [
        "def download_audio_from_youtube(youtube_video_url):\n",
        "    # folder_storage = 'Concept Selection process'\n",
        "    youtube_video_content = YouTube(youtube_video_url)\n",
        "    video_name = youtube_video_content.streams[0].default_filename\n",
        "\n",
        "    folder_storage = clean_and_format_string(video_name)\n",
        "\n",
        "\n",
        "    audio_streams = youtube_video_content.streams.filter(only_audio=True)\n",
        "    # for stream in audio_streams:\n",
        "    #     print(stream)\n",
        "\n",
        "    audio_stream = audio_streams[1]\n",
        "    dpath = audio_stream.download(folder_storage)\n",
        "    # print(audio_stream)\n",
        "    return dpath"
      ],
      "id": "y5P7BbfUm4LJ"
    },
    {
      "cell_type": "markdown",
      "source": [
        "Get png image segment"
      ],
      "metadata": {
        "id": "skAF5EnC96pO"
      },
      "id": "skAF5EnC96pO"
    },
    {
      "cell_type": "code",
      "source": [
        "def download_youtube_video(url, path='video.mp4'):\n",
        "    \"\"\"Download a YouTube video using pytube and return the title.\"\"\"\n",
        "    print(\"Downloading YouTube video...\")\n",
        "    yt = YouTube(url)\n",
        "    video_title = yt.title\n",
        "    output_fname = create_valid_folder_name(video_title)\n",
        "    path=f'{output_fname[:20]}.mp4'\n",
        "    stream = yt.streams.filter(progressive=True, file_extension='mp4').first()\n",
        "    stream.download(filename=path)\n",
        "    print(f\"Video {video_title} has been downloadeded successfully.\")\n",
        "    return path, video_title\n",
        "\n",
        "def create_valid_folder_name(title):\n",
        "    \"\"\"Create a valid folder name from the video title.\"\"\"\n",
        "    valid_name = ''.join(char for char in title if char.isalnum() or char in [' ', '_']).rstrip()\n",
        "    return valid_name.replace(' ', '_')\n",
        "\n",
        "def format_frame_name(seconds):\n",
        "    \"\"\"Format the frame name using minute and second format.\"\"\"\n",
        "    minutes = seconds // 60\n",
        "    seconds = seconds % 60\n",
        "    # return f\"frame_{minutes:02d}_{seconds:02d}.png\"\n",
        "    return f\"{minutes:02d}_{seconds:02d}.png\"\n",
        "\n",
        "def capture_frames(video_path, interval=5, output_folder='frames'):\n",
        "    \"\"\"Capture frames from the video at given interval.\"\"\"\n",
        "    print(f\"Capturing frames from the video into folder '{output_folder}'...\")\n",
        "    if not os.path.exists(output_folder):\n",
        "        os.makedirs(output_folder)\n",
        "    all_path=[]\n",
        "    with VideoFileClip(video_path) as video:\n",
        "        duration = int(video.duration)\n",
        "        for i in range(0, duration, interval):\n",
        "            frame = video.get_frame(i)\n",
        "            frame_image = Image.fromarray(frame)\n",
        "            frame_name = format_frame_name(i)\n",
        "            frame_path = os.path.join(output_folder, frame_name)\n",
        "            # print(f'what is frame path {frame_path}')\n",
        "            frame_image.save(frame_path)\n",
        "            # print(f\"Captured and saved {frame_name}.\")\n",
        "            all_path.append(frame_path)\n",
        "    print(\"All frames have been captured and saved.\")\n",
        "    return all_path"
      ],
      "metadata": {
        "id": "6NfBvU9399yz"
      },
      "id": "6NfBvU9399yz",
      "execution_count": null,
      "outputs": []
    },
    {
      "cell_type": "code",
      "source": [
        "\n",
        "\n",
        "def calculate_image_dimensions(image_path, max_width, max_height):\n",
        "    # Initialize variables to store the new width and height\n",
        "    new_width = None\n",
        "    new_height = None\n",
        "\n",
        "    # Check the first image to calculate the new dimensions\n",
        "    first_image = Image.open(image_path)\n",
        "    first_image_width, first_image_height = first_image.size\n",
        "\n",
        "    # Calculate the scaling factor based on the first image\n",
        "    width_ratio = max_width / first_image_width\n",
        "    height_ratio = max_height / first_image_height\n",
        "    scale_factor = min(width_ratio, height_ratio)\n",
        "\n",
        "    # Calculate the new width and height based on the first image\n",
        "    new_width = first_image_width * scale_factor\n",
        "    new_height = first_image_height * scale_factor\n",
        "\n",
        "    return new_width, new_height\n",
        "\n",
        "def add_images_to_word_document(df, word_fname, max_width, max_height, num_images=10):\n",
        "    print('Now I am saving the all the transcription and images in word')\n",
        "\n",
        "\n",
        "    #     # Check if word_fname already exists\n",
        "    # if os.path.isfile(word_fname):\n",
        "    #     # If it exists, create a new name with an addition (e.g., v1, v2, v3)\n",
        "    #     base_name, extension = os.path.splitext(word_fname)\n",
        "    #     counter = 1\n",
        "    #     while os.path.isfile(word_fname):\n",
        "    #         word_fname = f'{base_name}_v{counter}{extension}'\n",
        "    #         counter += 1\n",
        "\n",
        "\n",
        "            # Check the first image in the loop to calculate the new dimensions\n",
        "    first_image_path = df.iloc[0]['image_path']\n",
        "\n",
        "\n",
        "\n",
        "\n",
        "    new_width, new_height = calculate_image_dimensions(first_image_path, max_width, max_height)\n",
        "    doc = Document()\n",
        "    for index, row in df.iterrows():\n",
        "    # for index, row in df.head(num_images).iterrows():\n",
        "        # Add the image\n",
        "        image_path = row['image_path']\n",
        "\n",
        "        doc.add_picture(image_path, width=Inches(new_width), height=Inches(new_height))\n",
        "        # transcription_text = row['Transcription']['text']\n",
        "\n",
        "        doc.add_paragraph(row['Transcription']['text'])\n",
        "\n",
        "        # Add a new line between transcriptions\n",
        "        doc.add_paragraph(\"\\n\")\n",
        "\n",
        "    # Save the document\n",
        "    doc.save(word_fname)\n",
        "    print('Complete saving the all the transcription and images in word')\n",
        "    print(f'The file is saved as  {word_fname}')"
      ],
      "metadata": {
        "id": "9yiXvfirStvG"
      },
      "id": "9yiXvfirStvG",
      "execution_count": null,
      "outputs": []
    },
    {
      "cell_type": "code",
      "source": [
        "def sanitize_filename(title):\n",
        "    # Define characters that should be removed or replaced\n",
        "    remove_chars = ['\\\\', '/', ':', '*', '?', '\"', '<', '>', '|']\n",
        "    replace_with_underscore = [' ', '-']\n",
        "\n",
        "    # Replace or remove characters\n",
        "    for char in remove_chars:\n",
        "        title = title.replace(char, '')\n",
        "    for char in replace_with_underscore:\n",
        "        title = title.replace(char, '_')\n",
        "\n",
        "    # Optionally, you can also limit the length of the file name\n",
        "    max_length = 255  # Maximum file name length for most file systems\n",
        "    return title[:max_length]"
      ],
      "metadata": {
        "id": "_uQTlxrMNizy"
      },
      "id": "_uQTlxrMNizy",
      "execution_count": null,
      "outputs": []
    },
    {
      "cell_type": "code",
      "source": [
        "def process_video_now(video_title,video_path,durat,output_word_file):\n",
        "    print('step 1')\n",
        "    output_folder = create_valid_folder_name(video_title)\n",
        "\n",
        "    # downloaded_audio_path = download_audio_from_youtube(youtube_video_url)\n",
        "    downloaded_audio_path=video_path\n",
        "    segments = segment_audio(downloaded_audio_path, segment_duration_seconds=durat)\n",
        "\n",
        "\n",
        "    print('step 2')\n",
        "    all_path = capture_frames(video_path, interval=durat, output_folder=output_folder)\n",
        "\n",
        "    df2 = pd.DataFrame(all_path, columns=['image_path'])\n",
        "\n",
        "    df = pd.DataFrame(segments, columns=['SegmentPath'])\n",
        "\n",
        "    print('step 3')\n",
        "    df['SegmentNumber'] = df['SegmentPath'].apply(lambda x: int(x.split('_')[-1].split('.')[0]))\n",
        "    df = df.sort_values(by='SegmentNumber')\n",
        "\n",
        "    print(' This may take some time, but i am current whispering shhhhhh')\n",
        "    df['Transcription'] = df['SegmentPath'].apply(lambda x: model.transcribe(x))\n",
        "    combined_df = pd.concat([df2, df], axis=1)\n",
        "    # Set the maximum width and height for the image (in inches)\n",
        "    max_width = 6.5  # 8.5 inches - 1 inch margin on each side\n",
        "    max_height = 9.0  # 11 inches - 1 inch margin on top and bottom\n",
        "\n",
        "\n",
        "    add_images_to_word_document(combined_df, output_word_file, max_width, max_height, num_images=10)"
      ],
      "metadata": {
        "id": "nr9jbhwQuNw_"
      },
      "id": "nr9jbhwQuNw_",
      "execution_count": null,
      "outputs": []
    },
    {
      "cell_type": "code",
      "source": [
        "def process_video(durat, youtube_video_url):\n",
        "    # Rest of your existing code\n",
        "\n",
        "    video_url = youtube_video_url\n",
        "    video_path, video_title = download_youtube_video(video_url)\n",
        "\n",
        "    clean_fname=sanitize_filename(video_title)\n",
        "    output_word_file=f'{clean_fname}.docx'\n",
        "\n",
        "    # Directory to save files if Google Drive is not available\n",
        "    local_save_directory = '/content/'\n",
        "    gdrive='/content/drive/MyDrive/'\n",
        "    # Check if Google Drive is mounted, if not, use the local directory\n",
        "    save_directory = gdrive if os.path.exists(gdrive) else local_save_directory\n",
        "    word_fname=save_directory+output_word_file\n",
        "\n",
        "    if not os.path.exists(word_fname):\n",
        "      # Do all the function\n",
        "      c=1\n",
        "      print('step 1b')\n",
        "      process_video_now(video_title,video_path,durat,word_fname)\n",
        "    else:\n",
        "        print(f\"Document '{word_fname}' already exists. Skipping.\")\n"
      ],
      "metadata": {
        "id": "S538tLWlkbLO"
      },
      "id": "S538tLWlkbLO",
      "execution_count": null,
      "outputs": []
    },
    {
      "cell_type": "markdown",
      "source": [],
      "metadata": {
        "id": "QLnKSDssBXsR"
      },
      "id": "QLnKSDssBXsR"
    },
    {
      "cell_type": "code",
      "source": [
        "# youtube_url=\"https://youtu.be/LWscm2qfnNQ?list=PLn9ADapr5YGhG0lcPnrObqOFFsz3hnj1t\"\n",
        "# duration=20\n",
        "\n",
        "# process_video(duration, youtube_url)"
      ],
      "metadata": {
        "id": "230hU8U-Vjjr"
      },
      "id": "230hU8U-Vjjr",
      "execution_count": null,
      "outputs": []
    },
    {
      "cell_type": "markdown",
      "source": [
        "Download from playlist"
      ],
      "metadata": {
        "id": "IUH2gnhgFTZ0"
      },
      "id": "IUH2gnhgFTZ0"
    },
    {
      "cell_type": "code",
      "source": [
        "from pytube import Playlist, YouTube\n",
        "\n",
        "def get_playlist_urls(playlist_url):\n",
        "    # Create a playlist object\n",
        "    playlist = Playlist(playlist_url)\n",
        "\n",
        "    # List to store video URLs\n",
        "    video_urls = []\n",
        "\n",
        "    # Iterate through each video in the playlist\n",
        "    for url in playlist.video_urls:\n",
        "        print(f'Found video URL: {url}')\n",
        "        video_urls.append(url)\n",
        "\n",
        "    return video_urls\n",
        "\n",
        "# Replace with your playlist URL\n",
        "playlist_url = 'https://www.youtube.com/playlist?list=PLOzRYVm0a65epMo6DDrlT0X5ejGWDbT13'\n",
        "video_urls_playlist = get_playlist_urls(playlist_url)\n",
        "\n",
        "# Optionally, print all URLs\n"
      ],
      "metadata": {
        "id": "1fyHRba_FXWn"
      },
      "id": "1fyHRba_FXWn",
      "execution_count": null,
      "outputs": []
    },
    {
      "cell_type": "code",
      "source": [
        "# for url in video_urls_playlist:\n",
        "#     print(url)"
      ],
      "metadata": {
        "id": "y3RCKjgIKKfj"
      },
      "id": "y3RCKjgIKKfj",
      "execution_count": null,
      "outputs": []
    },
    {
      "cell_type": "code",
      "source": [
        "def get_youtube_video_title(url):\n",
        "    try:\n",
        "        # Create a YouTube object\n",
        "        yt = YouTube(url)\n",
        "        # Get the title of the video\n",
        "        title = yt.title\n",
        "        return title\n",
        "    except Exception as e:\n",
        "        return f\"An error occurred: {e}\"\n",
        "\n",
        "# Example URL\n",
        "# url = \"https://www.youtube.com/watch?v=G-JN2vFZPvI\"\n",
        "\n",
        "# # Get the video title\n",
        "# print(get_youtube_video_title(url))"
      ],
      "metadata": {
        "id": "Im0y6AXXzt_m"
      },
      "id": "Im0y6AXXzt_m",
      "execution_count": null,
      "outputs": []
    },
    {
      "cell_type": "code",
      "source": [
        "import docx\n",
        "def create_docx_for_each_title(titles,err_or):\n",
        "    sanitized_title = sanitize_filename(titles)\n",
        "    # Directory to save files if Google Drive is not available\n",
        "    local_save_directory = '/content/'\n",
        "    gdrive='/content/drive/MyDrive/'\n",
        "    # Check if Google Drive is mounted, if not, use the local directory\n",
        "    save_directory = gdrive if os.path.exists(gdrive) else local_save_directory\n",
        "    filename=save_directory+f'{sanitized_title}.docx'\n",
        "\n",
        "\n",
        "\n",
        "    # Check if file already exists\n",
        "    if not os.path.exists(filename):\n",
        "          doc = docx.Document()\n",
        "          doc.add_paragraph(titles)\n",
        "          # doc.add_paragraph(err_or)\n",
        "          doc.save(filename)\n",
        "          print(f\"Document '{filename}' created.\")\n",
        "    else:\n",
        "        print(f\"Document '{filename}' already exists. Skipping.\")"
      ],
      "metadata": {
        "id": "4c44onl6z4Xf"
      },
      "id": "4c44onl6z4Xf",
      "execution_count": null,
      "outputs": []
    },
    {
      "cell_type": "code",
      "source": [
        "duration = 20\n",
        "for youtube_urlx in video_urls_playlist:\n",
        "    try:\n",
        "        process_video(duration, youtube_urlx)\n",
        "    except Exception as e:\n",
        "        ytitle=get_youtube_video_title(youtube_urlx)\n",
        "        create_docx_for_each_title(ytitle,e)\n",
        "        print(f\"An error occurred while processing {youtube_urlx}: {e}\")\n"
      ],
      "metadata": {
        "id": "FdfgrjVXFa0V"
      },
      "id": "FdfgrjVXFa0V",
      "execution_count": null,
      "outputs": []
    }
  ],
  "metadata": {
    "accelerator": "GPU",
    "colab": {
      "provenance": [],
      "include_colab_link": true
    },
    "kernelspec": {
      "display_name": "Python 3",
      "name": "python3"
    },
    "language_info": {
      "codemirror_mode": {
        "name": "ipython",
        "version": 3
      },
      "file_extension": ".py",
      "mimetype": "text/x-python",
      "name": "python",
      "nbconvert_exporter": "python",
      "pygments_lexer": "ipython3",
      "version": "3.10.6"
    }
  },
  "nbformat": 4,
  "nbformat_minor": 5
}